{
 "cells": [
  {
   "cell_type": "markdown",
   "id": "019bc574",
   "metadata": {},
   "source": [
    "# Процессы стационарной теплопроводности в плоской стенке при отсутствии внутренних источников тепла\n",
    "\n",
    "##  <a id=\"Список_задач\"> Список задач</a> \n",
    " + [Задача 1](#Задача_1)\n",
    " + [Задача 2](#Задача_2)\n",
    " + [Задача 3](#Задача_3)\n",
    " + [Задача 4](#Задача_4)\n",
    " + [Задача 5](#Задача_5)\n",
    " + [Задача 6](#Задача_6)\n",
    " + [Задача 7](#Задача_7)\n",
    " + [Задача 8](#Задача_8)\n",
    " + [Задача 9](#Задача_9)\n",
    " + [Задача 10](#Задача_10)\n",
    "\n",
    " + [Задача 11](#Задача_11)\n",
    " + [Задача 12](#Задача_12)\n",
    " + [Задача 13](#Задача_13)\n",
    " + [Задача 14](#Задача_14)\n",
    " + [Задача 15](#Задача_15)\n",
    " + [Задача 16](#Задача_16)\n",
    " + [Задача 17](#Задача_17)\n",
    " + [Задача 18](#Задача_18)\n",
    " + [Задача 19](#Задача_19)\n",
    " + [Задача 20](#Задача_20)\n",
    " \n",
    " + [Задача 21](#Задача_21)\n",
    " + [Задача 22](#Задача_22)\n",
    " + [Задача 23](#Задача_23)\n",
    " + [Задача 24](#Задача_24)\n",
    " + [Задача 25](#Задача_25)\n",
    " + [Задача 26](#Задача_26)\n",
    " + [Задача 27](#Задача_27)\n",
    " + [Задача 28](#Задача_28)\n",
    " + [Задача 29](#Задача_29)\n",
    " + [Задача 30](#Задача_30)\n",
    " \n",
    " + [Задача 31](#Задача_31)\n",
    " + [Задача 32](#Задача_32)\n",
    " + [Задача 33](#Задача_33)\n",
    " + [Задача 34](#Задача_34)\n",
    " + [Задача 35](#Задача_35)\n",
    " + [Задача 36](#Задача_36)\n"
   ]
  },
  {
   "cell_type": "code",
   "execution_count": 81,
   "id": "2a0b79a9",
   "metadata": {},
   "outputs": [],
   "source": [
    "import math\n",
    "import matplotlib.pyplot as plt"
   ]
  },
  {
   "cell_type": "markdown",
   "id": "b3f58156",
   "metadata": {},
   "source": [
    "###  <a id=\"Задача_1\"> Задача 1 </a> \n",
    "\n",
    "Найти стационарное распределение температуры и поток тепла в неограниченной плоской стенке толщиной  $ \\delta $ при граничных условиях первого рода, считая коэффициент теплопроводности стенки $ \\lambda = const $ и плотность внутренних источников тепловыделения в ней $ q_v = 0 $.\n",
    "\n",
    "### Решение\n",
    "\n",
    "$$ \\begin{cases}\n",
    "    \\nabla^2 t = 0\\\\\n",
    "    t \\left( 0 \\right) = t_1\\\\\n",
    "    t\\left( \\delta \\right) = t_2\n",
    "  \\end{cases}\n",
    "$$\n",
    "$$ \\frac{ d^2 t}{d x^2} = 0,\\ t(x) = Ax + B$$ \n",
    "$$ t \\left( 0 \\right) = B = t_1, \\ t\\left( \\delta \\right)= A\\delta + t_1 = t_2, A = \\frac{t_2 - t_1}{\\delta} $$\n",
    "### Ответ\n",
    "$$ t\\left( x \\right)= \\frac{t_2 - t_1}{\\delta}x + t_1 $$\n",
    "$$ q = -\\lambda grad t = -\\lambda \\frac{t_2 - t_1}{\\delta} = \\frac{\\Delta t}{\\frac{\\delta}{\\lambda}} = \\frac{\\Delta t}{R_{терм}} $$\n",
    "$R_{терм}$ - внутреyнее термическое сопротивление, из аналогии с законом Ома:\n",
    "$$ I = \\frac{U}{R}$$\n",
    "\n",
    "[**Возврат к Списку задач**](#Список_задач)"
   ]
  },
  {
   "cell_type": "markdown",
   "id": "a3b6f228",
   "metadata": {},
   "source": [
    "###  <a id=\"Задача_2\"> Задача 2 </a>\n",
    "\n",
    "Через плоскую стенку толщиной 100 мм проходит поток тепла 80 $ \\frac{Вт}{м^2} $. Определить падение температуры $ \\Delta t $, а также градиент температуры $ \\frac{d t}{d x} $ в этой стенке, если она выполнена: 1) из латуни; 2) из красного кирпича; 3) из пробки.\n",
    "\n",
    "### Решение\n",
    "Из закона Био-Фурье:\n",
    "$$ q = -\\lambda grad t = \\frac{d t}{ d x} = -\\lambda \\frac{t_2 - t_1}{\\delta} = \\lambda \\frac{\\Delta t}{\\delta} $$\n",
    "Тогда можно выразить \n",
    "$$ \\Delta t = \\frac{q \\delta}{\\lambda}  $$\n",
    "\n",
    "Численное решение"
   ]
  },
  {
   "cell_type": "code",
   "execution_count": 58,
   "id": "f61ba88f",
   "metadata": {},
   "outputs": [
    {
     "name": "stdout",
     "output_type": "stream",
     "text": [
      " Перепад температуры - латунь : 0.1 K\n",
      " Перепад температуры - красный кирпич : 10.4 K\n",
      " Перепад температуры - пробка : 160.0 K\n"
     ]
    }
   ],
   "source": [
    "q_F = 80.0\n",
    "delta = 0.1\n",
    "def delta_t(Condact):\n",
    "    return q_F*delta/Condact \n",
    "\n",
    "Condactity = [['латунь', 'красный кирпич', 'пробка'], [85.5, 0.77, 0.05]];\n",
    "\n",
    "for i in range(0, len(Condactity[0])):\n",
    "    print(' Перепад температуры -', Condactity[0][i],':', format(delta_t(Condactity[1][i]), \".1f\") , 'K')\n",
    "    "
   ]
  },
  {
   "attachments": {},
   "cell_type": "markdown",
   "id": "bca3b880",
   "metadata": {},
   "source": [
    "\n",
    "### Ответ\n",
    "$ \\Delta t_л = 0,1 K,\\ \\Delta t_к = 10,4 K,\\ \\Delta t_п = 160 K $\n",
    "\n",
    "[**Возврат к Списку задач**](#Список_задач)"
   ]
  },
  {
   "cell_type": "markdown",
   "id": "ed2b9f6d",
   "metadata": {},
   "source": [
    "###  <a id=\"Задача_3\"> Задача 3 </a>\n",
    "Определить необходимую толщину стенки из красного кирпича высотой $ h = 4 м $ и длиной $ l = 5 м $, чтобы потери тепла через стенку не превышали $ Q = 2600 Вт $. При этом на поверхностях стенки поддерживаются температуры $ t_{с1} = 70^{\\circ} C $ и $ t_{с2} = 30^{\\circ} C $.\n",
    "\n",
    "### Решение\n",
    "$$ Q = qhl, \\ q = -\\lambda grad t = - \\lambda \\frac{d t}{d x} = \\lambda \\frac{\\Delta t}{\\Delta x}, Q = \\lambda \\frac{t_1 - t_2}{\\delta} hl$$ \n",
    "### Ответ\n",
    "$$ \\delta = \\lambda \\frac{(t_1 - t_2)}{Q} hl$$\n",
    "\n",
    "[**Возврат к Списку задач**](#Список_задач)"
   ]
  },
  {
   "cell_type": "code",
   "execution_count": 67,
   "id": "d695ced7",
   "metadata": {},
   "outputs": [
    {
     "name": "stdout",
     "output_type": "stream",
     "text": [
      "Минимальная толщина стенки : 0.237 м\n",
      "Длина одного кирпича 0.12 м\n"
     ]
    }
   ],
   "source": [
    "lamb = 0.77\n",
    "h = 4.0\n",
    "l = 5.0\n",
    "Q = 2600.0\n",
    "t_w2 = 30.0\n",
    "t_w1 = 70.0\n",
    "\n",
    "delta = lamb*h*l*(t_w1 - t_w2)/Q\n",
    "print('Минимальная толщина стенки :', format(delta, \".3f\"),'м')\n",
    "print('Длина одного кирпича 0.12 м')"
   ]
  },
  {
   "cell_type": "markdown",
   "id": "fe6719c6",
   "metadata": {},
   "source": [
    "###  <a id=\"Задача_4\"> Задача 4 </a>\n",
    "\n",
    "Поверхность плоского вертикального нагревателя высотой 0,5 м и шириной 0,6 м покрыта с обеих сторон изоляцией из асбеста. Чему равна толщина слоя изоляции, если при мощности нагревателя 500 Вт его температура составляет  $ 150^{\\circ} C $, а температура наружной поверхности изоляции равна $ 60^{\\circ} C $?\n",
    "\n",
    "### Решение\n",
    "$$ q = - \\lambda \\frac{\\partial t}{\\partial x} = - \\lambda \\frac{\\Delta t}{\\delta_{из}} $$\n",
    "С учетом того, что выделяемое тепло идет с двух сторон, то общая мощность нагревателя равна:\n",
    "$$ Q = 2qhl, \\ Q = 2 \\lambda \\frac{t_{внеш} - t_{внутр}}{\\delta_{из}}  hl $$\n",
    "### Ответ\n",
    "$$ \\delta_{из} = 2 \\lambda \\frac{t_{внеш} - t_{внутр}}{Q} hl $$\n",
    "\n",
    "[**Возврат к Списку задач**](#Список_задач)"
   ]
  },
  {
   "cell_type": "code",
   "execution_count": 60,
   "id": "b2ca09ca",
   "metadata": {},
   "outputs": [
    {
     "name": "stdout",
     "output_type": "stream",
     "text": [
      "Толщина слоя изоляции: 0.013\n"
     ]
    }
   ],
   "source": [
    "lamb = 0.116\n",
    "h = 0.5\n",
    "l = 0.6\n",
    "Q = 500.0\n",
    "t_in = 150.0\n",
    "t_out = 60.0\n",
    "\n",
    "delta = 2*lamb*h*l*(t_in - t_out)/Q\n",
    "print('Толщина слоя изоляции:', format(delta, \".3f\"),'м')"
   ]
  },
  {
   "cell_type": "markdown",
   "id": "8a103256",
   "metadata": {},
   "source": [
    "###  <a id=\"Задача_5\"> Задача 5 </a>\n",
    "\n",
    "Антикатод рентгеновской трубки выполнен в виде медного стержня длиной 300 мм и диаметром 15 мм. Определить разницу температур между горячим и холодным концами стержня, если через боковую поверхность стержня тепло не проходит, а холодный конец омывается проточной водой. Вода нагревается на $ 3^{\\circ}C $ при расходе 1 кг/мин.\n",
    "\n",
    "### Решение\n",
    "Общее количество тепла, которое проходит через стержень, отводится водой. Тогда можно записать баланс тепла:\n",
    "$$  Q = \\frac{q \\pi d^2}{4} = с_p G \\Delta t_в $$\n",
    "Плотность потока тепла от стержня определяется \n",
    "$$ q = - \\lambda \\frac{\\partial t}{\\partial x} = \\lambda \\frac{\\Delta t_{стер}}{l}$$\n",
    "$$ c_p G \\Delta t_в = \\frac{\\lambda \\Delta t_{стер}}{l} \\frac{\\pi d^2}{4}$$\n",
    "### Ответ\n",
    "$$ \\Delta t_{стер} = \\frac{4 l c_p G \\Delta t_в}{\\lambda \\pi d^2}$$\n",
    " \n",
    "\n",
    "[**Возврат к Списку задач**](#Список_задач) "
   ]
  },
  {
   "cell_type": "code",
   "execution_count": 68,
   "id": "100f986a",
   "metadata": {},
   "outputs": [
    {
     "name": "stdout",
     "output_type": "stream",
     "text": [
      "Разница температур между горячим и холодным концами стержня: 931.9 K\n"
     ]
    }
   ],
   "source": [
    "lamb = 384.0\n",
    "d_rod = 0.015\n",
    "l = 0.3\n",
    "G = 1.0/60.0\n",
    "delta_t_w = 3.0\n",
    "c_p = 4216.0\n",
    "\n",
    "delta_t_rod = 4*l*c_p*G*delta_t_w/(lamb*math.pi*d_rod**2)\n",
    "v\n"
   ]
  },
  {
   "cell_type": "markdown",
   "id": "0aa77d3f",
   "metadata": {},
   "source": [
    "###  <a id=\"Задача_6\"> Задача 6 </a>\n",
    "\n",
    "Получить выражение для плотности теплового потока через плоскую стенку, состоящую из трех слоев толщиной $ \\delta_1, \\delta_2, \\delta_3 $ с известными значениями коэффициента теплопроводности $ \\lambda_1 \\neq \\lambda_2 \\neq \\lambda_3 $. На внешних поверхностях стенки поддерживаются постоянные температуры $ t_1, t_4 $; тепловой контакт между слоями считать идеальным. Определить перепады температур на каждом слое. Полученные результаты обобщить на случай n-слойной плоской стенки.\n",
    "\n",
    "### Решение\n",
    "Через каждый слой стенки проходит одна и та же плотность теплового потока. Поэтому справедливы следующие выражения:\n",
    "$$ q = \\frac{\\lambda_1}{\\delta_1}(t_1 - t_2), \\ q = \\frac{\\lambda_2}{\\delta_2}(t_2 - t_3), \\ q = \\frac{\\lambda_3}{\\delta_3}(t_3 - t_4) $$\n",
    "Исключив неизвестные температуры:\n",
    "$$ q = \\frac{t_1 - t_4}{\\frac{\\delta_1}{\\lambda_1} + \\frac{\\delta_2}{\\lambda_2} + \\frac{\\delta_3}{\\lambda_3}} $$\n",
    "### Ответ\n",
    "$$ q = \\frac{t_1 - t_{n+1}}{\\sum_{i=1}^n \\frac{\\delta_i}{\\lambda_i}} $$\n",
    " \n",
    "\n",
    "[**Возврат к Списку задач**](#Список_задач) "
   ]
  },
  {
   "cell_type": "markdown",
   "id": "e5cabd62",
   "metadata": {},
   "source": [
    "###  <a id=\"Задача_7\"> Задача 7 </a>\n",
    "На рисунке представлено распределение температуры в составной плоской стенке из пяти слоев. Указать номер слоя материал которого имеет: а) наибольший коэффициент теплопроводности; б) наименьший коэффициент теплопроводности.\n",
    "\n",
    "### Решение\n",
    "Основываясь на выражении для плотности теплового потока проходящего через стенку, можно получить соотношение для определения коэффициента теплопроводности:\n",
    "$$\n",
    "q = \\frac{\\lambda}{\\delta}\\Delta t, \\ \\lambda = \\frac{\\delta q}{\\Delta t}\\\\\n",
    "$$\n",
    "\n",
    "### Ответ\n",
    "На участке 2 наименьшая $\\lambda$, так как наибольший перепад температур $\\Delta t$. На участке 4 - наибольшая $\\lambda$, так как перепад температур $\\Delta t$ наименьший.\n",
    " \n",
    "\n",
    "[**Возврат к Списку задач**](#Список_задач) "
   ]
  },
  {
   "cell_type": "markdown",
   "id": "1273b5c1",
   "metadata": {},
   "source": [
    "###  <a id=\"Задача_8\"> Задача 8 </a>\n",
    "Слой льда на реке толщиной 400 мм покрыт слоем снега толщиной 200 мм. Температуры нижней поверхности льда и верхней поверхности снега равны, соответственно $ \\ t_{c1} = 0^{\\circ}C, t_{c3} = -10^{\\circ}C $. Определить плотность потока тепла через лед и температуру верхней поверхности льда.\n",
    "\n",
    "### Решение\n",
    "Плотность теплового потока, проходящая через каждый слой стенки:\n",
    "\n",
    "$$ q = \\frac{\\lambda_1}{\\delta_1}(t_1-t_2) \\\\\n",
    "q = \\frac{\\lambda_2}{\\delta_2}(t_2-t_3) \\\\\n",
    "\\begin{cases}\n",
    "     t_1 - t_2 = \\frac{\\delta_1}{\\lambda_1}q     & \\quad \\\\\n",
    "     t_2 - t_3 = \\frac{\\delta_2}{\\lambda_2}q     & \\quad \n",
    "  \\end{cases} \n",
    "$$\n",
    "$$ t_1 - t_3 =q (\\frac{\\delta_1}{\\lambda_1} + \\frac{\\delta_2}{\\lambda_2}), \\ q = \\frac{t_1-t_3}{\\frac{\\delta_1}{\\lambda_1} + \\frac{\\delta_2}{\\lambda_2}} $$\n",
    "### Ответ \n",
    "$$ q = \\frac{t_{c1}-t_{c2}}{\\frac{\\delta_л}{\\lambda_л}+\\frac{\\delta_с}{\\lambda_с}}$$\n",
    "$$ t_2 = t_1 - \\frac{\\delta_л}{\\lambda_л}q $$\n",
    "\n",
    "[**Возврат к Списку задач**](#Список_задач) "
   ]
  },
  {
   "cell_type": "code",
   "execution_count": 72,
   "id": "19d1ce86",
   "metadata": {},
   "outputs": [
    {
     "name": "stdout",
     "output_type": "stream",
     "text": [
      "Плотность теплового потока: 16.2 Вт/м^2\n",
      "Температура верхней поверхности льда: -2.9 K\n"
     ]
    }
   ],
   "source": [
    "delta_ice = 0.4 \n",
    "lamb_ice = 2.2\n",
    "delta_snow = 0.2\n",
    "lamb_snow = 0.46\n",
    "t_bottom_ice = 0.0\n",
    "t_snow = -10.0\n",
    " \n",
    "q = (t_bottom_ice - t_snow)/((delta_ice/lamb_ice)+(delta_snow/lamb_snow))\n",
    "print('Плотность теплового потока:', format(q, \".1f\"),'Вт/м^2')\n",
    "t_up_ice = t_bottom_ice - q*(delta_ice/lamb_ice)\n",
    "print('Температура верхней поверхности льда:', format(t_up_ice, \".1f\"),'K')"
   ]
  },
  {
   "cell_type": "markdown",
   "id": "3ac3c454",
   "metadata": {},
   "source": [
    "###  <a id=\"Задача_9\"> Задача 9 </a>\n",
    "\n",
    "Обмуровка печи состоит из слоев шамотного и красного кирпича, между которыми имеется засыпка диатомита. Толщина шамотного слоя $\\delta_1 = 120 мм $,диатомитовой засыпки $\\delta_2 = 60 мм $ и красного кирпича $\\delta_3 = 250 мм $. Какой толщины должен быть слой красного кирпича, если отказаться от засыпки диатомита, чтобы тепловой поток через обмуровку оставался неизменным?\n",
    "\n",
    "\n",
    "### Решение\n",
    "Плотность теплового потока, через для n стенок:\n",
    "$$\n",
    " q = \\frac{t_1-t_{n+1}}{\\displaystyle\\sum_{n=1}^{k}\\frac{\\delta_n}{\\lambda_n}}\n",
    "$$\n",
    "Соотвественно для двух случаев можно записать.  \n",
    "$$\n",
    "q = \\frac{t_{1}-t_{4}}{\\frac{\\delta_1}{\\lambda_1}+\\frac{\\delta_2}{\\lambda_2}+\\frac{\\delta_3}{\\lambda_3}}\\\n",
    "q = \\frac{t_{1}-t_{4}}{\\frac{\\delta_1}{\\lambda_1}+\\frac{\\delta'_3}{\\lambda_3}}\n",
    "$$\n",
    "Из условия сохранения величины плотности теплового потока: \n",
    "$$ \\frac{\\delta_1}{\\lambda_1}+\\frac{\\delta_2}{\\lambda_2}+\\frac{\\delta_3}{\\lambda_3} = \\frac{\\delta_1}{\\lambda_1}+\\frac{\\delta'_3}{\\lambda_3}, \\ \\delta'_3 = \\frac{\\delta_2}{\\lambda_2}\\lambda_3 + \\delta_3 $$\n",
    "### Ответ \n",
    "$$\\delta'_3 = \\frac{\\delta_2}{\\lambda_2}\\lambda_3 + \\delta_3  $$                                                                                                                  \n",
    "                                                                                                                    \n",
    "[**Возврат к Списку задач**](#Список_задач) "
   ]
  },
  {
   "cell_type": "code",
   "execution_count": 74,
   "id": "b2175d36",
   "metadata": {},
   "outputs": [
    {
     "name": "stdout",
     "output_type": "stream",
     "text": [
      "Толщина слоя красного кирпича: 0.76 м\n"
     ]
    }
   ],
   "source": [
    "delta_shamot = 0.120 \n",
    "lamb_shamot = 0.84\n",
    "delta_diatomit = 0.06\n",
    "lamb_diatomit = 0.091\n",
    "delta_brick = 0.250\n",
    "lamb_brick = 0.77\n",
    " \n",
    "delta_brick_new = (delta_diatomit/lamb_diatomit)*lamb_brick + delta_brick\n",
    "print('Толщина слоя красного кирпича:', format(delta_brick_new, \".2f\"),'м')"
   ]
  },
  {
   "cell_type": "markdown",
   "id": "9c2b265d",
   "metadata": {},
   "source": [
    "###  <a id=\"Задача_10\"> Задача 10 </a>\n",
    "Плоская стенка сушильной камеры площадью $ 5{м}^2 $ покрыта тепловой изоляцией. Стенка камеры выполнена из стали толщиной $\\delta_1 = 4мм $. Слой изоляции выполнен из новоасбозурита ($\\lambda = 0,17\\frac{Вт}{м \\cdot K}$) толщиной $\\delta_2 = 50мм $. Температуры внутренней поверхности стенки камеры  $ \\ t_{c1} = 250^{\\circ}C$ и внешней поверхности изоляции  $ \\ t_{c3} = 50^{\\circ}C$. Вычислить количество тепла, передаваемое через стенку, и температуру на границе стенки и изоляции.\n",
    "\n",
    "### Решение\n",
    "$$ q = \\frac{t_{c1}-t_{c3}}{\\frac{\\delta_1}{\\lambda_1}+\\frac{\\delta_2}{\\lambda_2}} $$\n",
    "$$ Q=q \\cdot S $$\n",
    "$$ q = \\frac{\\lambda_1}{\\delta_1}(t_1-t_2), \\ t_2 = t_1 - \\frac{\\delta_{сталь}}{\\lambda_{сталь}}q $$\n",
    "\n",
    "### Ответ \n",
    "$$ Q=q \\cdot S, \\ t_2 = t_1 - \\frac{\\delta_{сталь}}{\\lambda_{сталь}}q $$                                                                                                                 \n",
    "                                                                                                                    \n",
    "[**Возврат к Списку задач**](#Список_задач) "
   ]
  },
  {
   "cell_type": "code",
   "execution_count": 77,
   "id": "96f85a40",
   "metadata": {},
   "outputs": [
    {
     "name": "stdout",
     "output_type": "stream",
     "text": [
      "Температура на границе стенки изоляции: 249.9 K\n",
      "Количество тепла, передаваемое через стенку: 3399 Вт\n"
     ]
    }
   ],
   "source": [
    "Area = 5.0\n",
    "t_w1 = 250.0\n",
    "t_w3 = 50.0\n",
    "\n",
    "delta_steel = 0.004 \n",
    "lamb_steel = 42.4\n",
    "delta_insulator = 0.05\n",
    "lamb_insulator = 0.17\n",
    "\n",
    "q = (t_w1-t_w3)/((delta_steel/lamb_steel) + (delta_insulator/lamb_insulator))\n",
    "t_w2 = t_w1 - q*(delta_steel/lamb_steel)\n",
    "Q = Area * q\n",
    "print ('Температура на границе стенки изоляции:', format(t_w2, \".1f\"),'K')\n",
    "print ('Количество тепла, передаваемое через стенку:', format(Q, \".0f\"),'Вт')"
   ]
  },
  {
   "cell_type": "markdown",
   "id": "1fa25f9e",
   "metadata": {},
   "source": [
    "###  <a id=\"Задача_11\"> Задача 11 </a>\n",
    "Определить плотность потока тепла q через стенку холодильника, состоящую из наружного слоя красного кирпича и внутреннего слоя сухой пробки. Толщины слоев, соответсвенно, равны $\\delta_1=250$ мм и $\\delta_2=200$ мм. Обе повеорхности пробкового слоя покрыты гидроизоляцией, термическим сопротивлением которым можно принебречь. Температуры наружных поверхностей кирпичного и пробкового слоев равны $ t_{c1}=25^{\\circ}C, t_{c3}=-2^{\\circ}C$ соответсвенно. Определить также температуру $ t_{c2} $ в плоскости касания кирпича и пробки.\n",
    "\n",
    "### Решение\n",
    "$$ q = \\frac{t_{c1}-t_{c3}}{\\frac{\\delta_1}{\\lambda_1}+\\frac{\\delta_2}{\\lambda_2}}$$\n",
    "$$\n",
    "q = \\lambda_1 \\frac{t_{c1}-t_{c2}}{\\delta_1}, \\ t_{c2} = t_{c1} - q\\frac{\\delta_1}{\\lambda_1}\\\\\n",
    "$$\n",
    "\n",
    "### Ответ \n",
    "$$\n",
    "q = \\lambda_1 \\frac{t_{c1}-t_{c2}}{\\delta_1}, \\ t_{c2} = t_{c1} - q\\frac{\\delta_{кирпич}}{\\lambda_{кирпич}}\\\\\n",
    "$$                                                                                                                \n",
    "                                                                                                                    \n",
    "[**Возврат к Списку задач**](#Список_задач) \n"
   ]
  },
  {
   "cell_type": "code",
   "execution_count": 80,
   "id": "451ab613",
   "metadata": {},
   "outputs": [
    {
     "name": "stdout",
     "output_type": "stream",
     "text": [
      "Температура в плоскости касания кирпича и пробки: 23.0 K\n",
      "Плотность потока тепла через стенку холодильника: 6.2 Вт/м^2\n"
     ]
    }
   ],
   "source": [
    "t_w1 = 25.0\n",
    "t_w3 = -2.0\n",
    "\n",
    "delta_brick = 0.25 \n",
    "lamb_brick = 0.77\n",
    "delta_stopper = 0.2\n",
    "lamb_stopper = 0.05\n",
    "\n",
    "q = (t_w1-t_w3)/((delta_brick/lamb_brick) + (delta_stopper/lamb_stopper))\n",
    "t_w2 = t_w1 - q*(delta_brick/lamb_brick)\n",
    "print ('Температура в плоскости касания кирпича и пробки:', format(t_w2, \".1f\"),'K')\n",
    "print ('Плотность потока тепла через стенку холодильника:', format(q, \".1f\"),'Вт/м^2')"
   ]
  },
  {
   "cell_type": "markdown",
   "id": "52dffd31",
   "metadata": {},
   "source": [
    "###  <a id=\"Задача_12\"> Задача 12 </a>\n",
    "\n",
    "Решить [задачу 11](#Задача_11) при условии, что пробковый слой не покрыт гидроизоляцией, вследствие этого пары воды проникают в пробковый слой; здесь они конденсируются, а конденсат замерзает . Коэффициент теплопроводности влажной пробки $λ_3 = 0,14 \\frac{Вт}{м \\cdot К}$, а промерзшей пробки $λ_4 = 0,35 \\frac{Вт}{м \\cdot К}$. Влажность наружного воздуха такова, что образование росы происходит при температуре $ t_{c3}=10^{\\circ}C$. Все остальные данные, как и в  [задачу 11](#Задача_11). Определить также толщину $δ_3$ зоны конденсации паров воды в слое пробки и толщину $δ_4$ зоны промерзания пробки.\n",
    "\n",
    "### Решение\n",
    "Общая длина пробкового слоя:\n",
    "$$\\delta = \\delta_2 + \\delta_3 + \\delta_4$$\n",
    "Тепловой поток через каждый слой:\n",
    "$$\n",
    "t_{с1}-t_{с2}=q\\frac{\\delta_1}{\\lambda_1}, \\\\\n",
    "t_{с2}-t_{с3}=q\\frac{\\delta_2}{\\lambda_2}, \\\\\n",
    "t_{с3}-t_{с4}=q\\frac{\\delta_3}{\\lambda_3}, \\\\\n",
    "t_{с4}-t_{с5}=q\\frac{\\delta_4}{\\lambda_4}\n",
    "$$ \n",
    "Выразим толщину $\\delta_2$ сухой пробки, следюущим образом:\n",
    "$$\n",
    "t_{с1}-t_{с3}= q  \\left(  \\frac{\\delta_1}{\\lambda_1} + \\frac{\\delta_2}{\\lambda_2} \\right)\\\\\n",
    "\\delta_3 = \\frac{\\lambda_3}{q} \\left( t_{с3}-t_{с4} \\right), \\ \n",
    "\\delta_4 = \\frac{\\lambda_4}{q} \\left( t_{с4}-t_{с5} \\right),\\ \n",
    "\\delta_2 = \\delta - \\left( \\delta_3 + \\delta_4 \\right) \n",
    "$$\n",
    "Отсюда получаем выражение $\\delta_2$:\n",
    "$$ \\delta_2 =\\delta-\\frac{1}{q} \\left( \\lambda_3 (t_{с3}-t_{с4}) + \\lambda_4 (t_{с4}-t_{с5}) \\right) $$ \n",
    "\n",
    "Испльзуя полученное выражение можно получить выражение для $q$:\n",
    "$$\n",
    "t_{с1}-t_{с3}=q  \\left(  \\frac{\\delta_1}{\\lambda_1} + \\frac{\\delta}{\\lambda_2} \\right) - \\frac{1}{\\lambda_2} \\left( \\lambda_3 (t_{с3}-t_{с4}) + \\lambda_4 (t_{с4}-t_{с5}) \\right)\n",
    "$$\n",
    "$$ q = \\frac{t_{с1}-t_{с3}+\\frac{1}{\\lambda_2}[\\lambda_3(t_{с3}-t_{с4})+\\lambda_4(t_{с4}-t_{с5})]}{\\frac{\\delta_1}{\\lambda_1}+\\frac{\\delta}{\\lambda_2}} $$\n",
    "\n",
    "Величины $t_{с2}$, $δ_3$, $δ_4$ можн оопределить по соотношениям:\n",
    "\n",
    "$$t_{с2}=t_{с1}-q\\frac{\\delta_1}{\\lambda_1}, \\ \\delta_3=\\frac{\\lambda_3}{q}(t_{с3}-t_{с4}),\\  \\delta_4=\\frac{\\lambda_4}{q}(t_{с4}-t_{с5})$$\n",
    "\n",
    "### Ответ \n",
    "$$ q = \\frac{t_{с1}-t_{с3}+\\frac{1}{\\lambda_2}[\\lambda_3(t_{с3}-t_{с4})+\\lambda_4(t_{с4}-t_{с5})]}{\\frac{\\delta_1}{\\lambda_1}+\\frac{\\delta}{\\lambda_2}} $$\n",
    "$$t_{с2}=t_{с1}-q\\frac{\\delta_1}{\\lambda_1}, \\ \\delta_3=\\frac{\\lambda_3}{q}(t_{с3}-t_{с4}),\\  \\delta_4=\\frac{\\lambda_4}{q}(t_{с4}-t_{с5})$$"
   ]
  },
  {
   "cell_type": "code",
   "execution_count": 86,
   "id": "1dcedbd1",
   "metadata": {},
   "outputs": [
    {
     "name": "stdout",
     "output_type": "stream",
     "text": [
      "Плотность потока тепла через стенку: 13.2 Вт/м^2\n",
      "Температура в плоскости касания кирпича и пробки: 20.7 K\n",
      "Толщина влажной пробки: 0.106 м\n",
      "Толщина промерзшей пробки: 0.053 м\n",
      "Толщина сухой пробки: 0.041 м\n"
     ]
    },
    {
     "data": {
      "text/plain": [
       "[<matplotlib.lines.Line2D at 0x1ed3a4c91f0>]"
      ]
     },
     "execution_count": 86,
     "metadata": {},
     "output_type": "execute_result"
    },
    {
     "data": {
      "image/png": "[encoded data removed]",
      "text/plain": [
       "<Figure size 432x288 with 1 Axes>"
      ]
     },
     "metadata": {
      "needs_background": "light"
     },
     "output_type": "display_data"
    }
   ],
   "source": [
    "t_w1 = 25.0\n",
    "t_w3 = 10.0\n",
    "t_w4 = 0.0 # Температура замерзания воды\n",
    "t_w5 = -2.0\n",
    "\n",
    "delta_brick = 0.25 \n",
    "delta_stopper = 0.2\n",
    "\n",
    "lamb_brick = 0.77\n",
    "lamb_stopper_dry = 0.05\n",
    "lamb_stopper_wet = 0.14\n",
    "lamb_stopper_frozen = 0.35\n",
    "\n",
    "q = (t_w1-t_w3)/((delta_brick/lamb_brick) + (delta_stopper/lamb_stopper))\n",
    "q = (t_w1 - t_w3 + 1/lamb_stopper_dry*(lamb_stopper_wet*(t_w3 - t_w4) + lamb_stopper_frozen*(t_w4 - t_w5)))/(delta_brick/lamb_brick + delta_stopper/lamb_stopper_dry)\n",
    "\n",
    "print ('Плотность потока тепла через стенку:', format(q, \".1f\"),'Вт/м^2')\n",
    "\n",
    "t_w2 = t_w1 - q*(delta_brick/lamb_brick)\n",
    "delta_stopper_wet = lamb_stopper_wet/q*(t_w3 - t_w4)\n",
    "delta_stopper_frozen = lamb_stopper_frozen/q*(t_w4 - t_w5)\n",
    "delta_stopper_dry = delta_stopper - delta_stopper_wet - delta_stopper_frozen \n",
    "\n",
    "print ('Температура в плоскости касания кирпича и пробки:', format(t_w2, \".1f\"),'K')\n",
    "print ('Толщина сухой пробки:', format(delta_stopper_dry, \".3f\"),'м')\n",
    "print ('Толщина влажной пробки:', format(delta_stopper_wet, \".3f\"),'м')\n",
    "print ('Толщина промерзшей пробки:', format(delta_stopper_frozen, \".3f\"),'м')\n",
    "\n",
    "plt.plot([0,delta_brick,delta_brick+delta_stopper_dry,delta_brick+delta_stopper_dry+delta_stopper_wet,\n",
    "          delta_brick+delta_stopper_dry+delta_stopper_wet+delta_stopper_frozen],[t_w1,t_w2,t_w3,t_w4,t_w5],\n",
    "         '-o')"
   ]
  },
  {
   "cell_type": "markdown",
   "id": "5d66847c",
   "metadata": {},
   "source": [
    "###  <a id=\"Задача_13\"> Задача 13 </a>\n",
    "\n",
    "В приборе для определения коэффициента теплопроводности твердых материалов методом пластины между плоскими поверхностями нагревателя и холодильника расположена круглая пластина из испытуемого вещества. Диаметр пластины d = 120 мм. Расход тепла через пластину Q = 60 Вт, а температуры горячей и холодной плоскостей тел прибора $t_{с1}$ = 180 °С и $t_{с2}$ = 30 °С. Найти погрешность в определении коэффициента теплопроводности, вызванную термическим сопротивлением воздушных зазоров ($ \\delta_{2}$ = 0,1 мм), которые остались между поверхностями прибора и пластины вследствие плохой их пригонки.\n",
    "\n",
    "Указание: передачу тепла излучением через воздушные зазоры не учитывать.\n",
    "\n",
    "![image.png](attachment:image.png)\n",
    "\n",
    "### Решение\n",
    "\n",
    "Поток через тонкую стенку: $$ q = \\lambda \\frac{t_1 - t_2}{\\delta} \\\\ \n",
    "q = \\frac{Q}{S}  \\qquad (1)      \\\\   S = \\frac{\\pi\\cdot d^2}{4} \\qquad (2)\\\\\n",
    "\\lambda_{экс} = \\frac{q\\cdot \\delta_1}{t_1 - t_2} \\qquad\n",
    "\\lambda_{ист} = \\frac{q\\cdot \\delta_1}{t_{1}^{'}- t_2^{'}} \\\\ \\\\ \\\\\n",
    "\\frac{\\lambda_{ист}-\\lambda_{экс}}{\\lambda_{ист}} = \\frac{\\frac{ q\\cdot \\delta_1}{t_{1}^{'}- t_2^{'}}-\\frac{q\\cdot \\delta_1}{t_1 - t_2}}{\\frac{q\\cdot \\delta_1}{t_{1}^{'}- t_2^{'}}} \\\\\n",
    "Преобразуем: \\frac{\\lambda_{ист}-\\lambda_{экс}}{\\lambda_{ист}} = \\frac{(t_1 - t_2)-(t_{1}^{'}- t_2^{'})}{t_1 - t_2}\n",
    "$$\n",
    "\n",
    "\\begin{equation*}\n",
    " \\begin{cases}\n",
    "    \\frac{q\\cdot \\delta_1}{\\lambda_{в1}} = t_1 - t_1^{'} \\\\\n",
    "    \\frac{q\\cdot \\delta_2}{\\lambda_{в2}} = t_2 - t_2^{'}\n",
    " \\end{cases}\n",
    "\\end{equation*}\n",
    "\n",
    "\n",
    "Учитывая (1) и (2): $$ \\\\ \n",
    "(t_1 - t_2) - (t_{1}^{'}- t_2^{'}) = q\\cdot \\delta_2\\cdot( \\frac{1}{\\lambda_{в1}} - \\frac{1}{\\lambda_{в2}}) \\\\\n",
    "\\frac{\\lambda_{ист}-\\lambda_{экс}}{\\lambda_{ист}} = \\frac{\\frac{4\\cdot Q \\cdot \\delta_2}{\\pi \\cdot d^2}\\cdot( \\frac{1}{\\lambda_{в1}} - \\frac{1}{\\lambda_{в2}})}{t_1 - t_2}\n",
    "$$\n",
    "Теплопроводность воздуха берём из таблицы П.7 в конце задачника.\n",
    "При необходимости линейно интерполируем значения для искомой температуры.\n",
    "\n",
    "$$\n",
    "t_{1}^{'} = t_1 - \\frac{4\\cdot Q \\cdot \\delta_2}{\\pi \\cdot d^2} \\cdot  \\frac{1}{\\lambda_{в1}} \\qquad t_{ср1} =  \\frac{t_1 + t_{1}^{'}}{2} \\\\\n",
    "t_{2}^{'} = t_2 - \\frac{4\\cdot Q \\cdot \\delta_2}{\\pi \\cdot d^2} \\cdot  \\frac{1}{\\lambda_{в2}} \\qquad t_{ср2} =  \\frac{t_2 + t_{2}^{'}}{2}\n",
    "$$\n",
    "Методом итерации можно найти температуру на стенках образца. После чего вычислить среднюю температуру в зазоре и соответствующей ей значение коэффициента теплопроводности воздуха в зазорах.  "
   ]
  },
  {
   "cell_type": "code",
   "execution_count": 88,
   "id": "75b5bf8c",
   "metadata": {},
   "outputs": [
    {
     "ename": "SyntaxError",
     "evalue": "invalid syntax (<ipython-input-88-069092b8ada6>, line 1)",
     "output_type": "error",
     "traceback": [
      "\u001b[1;36m  File \u001b[1;32m\"<ipython-input-88-069092b8ada6>\"\u001b[1;36m, line \u001b[1;32m1\u001b[0m\n\u001b[1;33m    f run2():\u001b[0m\n\u001b[1;37m      ^\u001b[0m\n\u001b[1;31mSyntaxError\u001b[0m\u001b[1;31m:\u001b[0m invalid syntax\n"
     ]
    }
   ],
   "source": [
    "f run2():\n",
    "    Q=60 \n",
    "    t1=180 \n",
    "    t2=30 \n",
    "    delt=0.0001\n",
    "    global lamb\n",
    "    lamb=((4*Q*delt)/(3.14*0.12*0.12) * (1/0.0378+1/0.0267))/(t1-t2)\n",
    "\n",
    "run2()\n",
    "print('Искомая величина', lamb)"
   ]
  },
  {
   "cell_type": "code",
   "execution_count": null,
   "id": "c58fb41b",
   "metadata": {},
   "outputs": [],
   "source": []
  },
  {
   "cell_type": "code",
   "execution_count": null,
   "id": "2371f0bb",
   "metadata": {},
   "outputs": [],
   "source": []
  },
  {
   "cell_type": "code",
   "execution_count": null,
   "id": "79f32418",
   "metadata": {},
   "outputs": [],
   "source": []
  },
  {
   "cell_type": "code",
   "execution_count": null,
   "id": "4958ea4c",
   "metadata": {},
   "outputs": [],
   "source": []
  },
  {
   "cell_type": "code",
   "execution_count": null,
   "id": "c3eba459",
   "metadata": {},
   "outputs": [],
   "source": []
  },
  {
   "cell_type": "code",
   "execution_count": null,
   "id": "53ccf4a9",
   "metadata": {},
   "outputs": [],
   "source": []
  },
  {
   "cell_type": "code",
   "execution_count": null,
   "id": "520b9da2",
   "metadata": {},
   "outputs": [],
   "source": []
  }
 ],
 "metadata": {
  "kernelspec": {
   "display_name": "Python 3",
   "language": "python",
   "name": "python3"
  },
  "language_info": {
   "codemirror_mode": {
    "name": "ipython",
    "version": 3
   },
   "file_extension": ".py",
   "mimetype": "text/x-python",
   "name": "python",
   "nbconvert_exporter": "python",
   "pygments_lexer": "ipython3",
   "version": "3.8.8"
  }
 },
 "nbformat": 4,
 "nbformat_minor": 5
}
